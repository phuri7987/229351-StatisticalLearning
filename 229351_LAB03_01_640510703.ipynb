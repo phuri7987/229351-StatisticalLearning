{
  "cells": [
    {
      "cell_type": "markdown",
      "metadata": {
        "id": "view-in-github",
        "colab_type": "text"
      },
      "source": [
        "<a href=\"https://colab.research.google.com/github/phuri7987/229351-StatisticalLearning/blob/main/229351_LAB03_01_640510703.ipynb\" target=\"_parent\"><img src=\"https://colab.research.google.com/assets/colab-badge.svg\" alt=\"Open In Colab\"/></a>"
      ]
    },
    {
      "cell_type": "markdown",
      "metadata": {
        "id": "rUWDxJYaXbGS"
      },
      "source": [
        "ปฏิบัติการครั้งที่ 3 กระบวนวิชา 229351 Statistical Learning for Data Science\n"
      ]
    },
    {
      "cell_type": "markdown",
      "metadata": {
        "id": "40DP82euz0nP"
      },
      "source": [
        "### ในปฏิบัติการนี้เราจะฝึกการทำ PCA ด้วยสองวิธี คือ\n",
        "1. หาด้วยการแยกส่วนประกอบของเมทริกซ์ผ่าน numpy\n",
        "2. หาด้วยการใช้เครื่องมือที่มีมาให้ใน scikit-learn"
      ]
    },
    {
      "cell_type": "markdown",
      "metadata": {
        "id": "rr5sXKql7m_T"
      },
      "source": [
        "#### ตัวอย่าง 1: แยกตัวประกอบ (spectral decomposition) ของเมทริกซ์ต่อไปนี้\n",
        "\n",
        "$$\n",
        "M=\\begin{pmatrix} 3 & 4 & 6 \\\\ 2 & 4 & 6 \\\\ 7 & 8 & 3 \\end{pmatrix}$$"
      ]
    },
    {
      "cell_type": "markdown",
      "metadata": {
        "id": "XyK0RPx379Fo"
      },
      "source": [
        "### ความสำคัญของการ center ข้อมูลก่อนทำ PCA\n",
        "\n",
        "![image](https://i.stack.imgur.com/9vENg.jpg)"
      ]
    },
    {
      "cell_type": "code",
      "execution_count": 1,
      "metadata": {
        "id": "W4mkSzTBalJi",
        "outputId": "da25f2f9-ee5d-4995-a1e3-ca6ba9bff9bc",
        "colab": {
          "base_uri": "https://localhost:8080/"
        }
      },
      "outputs": [
        {
          "output_type": "stream",
          "name": "stdout",
          "text": [
            "[[-1.         -1.33333333  1.        ]\n",
            " [-2.         -1.33333333  1.        ]\n",
            " [ 3.          2.66666667 -2.        ]] <- M\n",
            "\n",
            "\n",
            "[[ 7.          6.         -4.5       ]\n",
            " [ 6.          5.33333333 -4.        ]\n",
            " [-4.5        -4.          3.        ]] <- A\n"
          ]
        }
      ],
      "source": [
        "import numpy as np\n",
        "\n",
        "# เริ่มจากตัวอย่าง 3x3 เมทริกซ์\n",
        "\n",
        "M = np.array([[3,4,6],[2,4,6],[7,8,3]])\n",
        "\n",
        "np.mean(M, axis=0)\n",
        "\n",
        "M = M - np.mean(M, axis=0)  # normalize the columns\n",
        "\n",
        "# np.cov คำนวณ covariance ระหว่างเวกเตอร์แถว แต่เราต้องการ covariance ของ\n",
        "# เวกเตอร์คอลัมน์ของ A จึงต้องทำการ tranpose ก่อนที่จะใส่ np.cov\n",
        "\n",
        "A = np.cov(M, rowvar=False) # covariance matrix of M\n",
        "\n",
        "print(M, '<- M\\n\\n')\n",
        "print(A, '<- A')"
      ]
    },
    {
      "cell_type": "markdown",
      "metadata": {
        "id": "LzjaJ3Fp9DHH"
      },
      "source": [
        "#### Matrix decomposition\n",
        "\n",
        "$$A =\\begin{pmatrix}\\uparrow & \\uparrow & \\uparrow \\\\\n",
        "u_1 & u_2 & u_3 \\\\\n",
        "\\downarrow & \\downarrow & \\downarrow\n",
        "\\end{pmatrix}\\begin{pmatrix}\\lambda_1 & 0 & 0 \\\\\n",
        "0 & \\lambda_2 & 0 \\\\\n",
        "0 & 0 & \\lambda_3\n",
        "\\end{pmatrix}\\begin{pmatrix}\\leftarrow & u_1 & \\rightarrow \\\\\n",
        "\\leftarrow & u_2 & \\rightarrow \\\\\n",
        "\\leftarrow & u_3 & \\rightarrow\n",
        "\\end{pmatrix}$$\n",
        "\n",
        "คำสั่งที่ใช้คือ `np.linalg.eigh` ([Documentation](https://numpy.org/doc/stable/reference/generated/numpy.linalg.eigh.html))"
      ]
    },
    {
      "cell_type": "code",
      "execution_count": 2,
      "metadata": {
        "id": "TKGPbWmBQhH5",
        "outputId": "942d51cd-f425-473f-fa67-ba7da439159c",
        "colab": {
          "base_uri": "https://localhost:8080/"
        }
      },
      "outputs": [
        {
          "output_type": "execute_result",
          "data": {
            "text/plain": [
              "EighResult(eigenvalues=array([ 0.        ,  0.13709533, 15.196238  ]), eigenvectors=array([[ 0.        , -0.7377465 , -0.67507785],\n",
              "       [ 0.6       ,  0.54006228, -0.5901972 ],\n",
              "       [ 0.8       , -0.40504671,  0.4426479 ]]))"
            ]
          },
          "metadata": {},
          "execution_count": 2
        }
      ],
      "source": [
        "# หา eigenvalues และ eigenvectors ของ A ด้วยฟังก์ชันต่อไปนี้\n",
        "\n",
        "specA = np.linalg.eigh(A)\n",
        "\n",
        "specA"
      ]
    },
    {
      "cell_type": "markdown",
      "metadata": {
        "id": "FMIdO-J28sa9"
      },
      "source": [
        "#### SpecA มีสมาชิก 2 ตัว  \n",
        "ตัวที่ 1 คือ Eigenvalues  เรียงจาก**น้อยไปหามาก**  \n",
        "ตัวที่สองคือ Eigenvectors โดยที่ **แต่ละ column คือ eigenvector แต่ละตัว**\n",
        "\n",
        "\\begin{align*}\n",
        "\\texttt{specA[0]} &=  D=[\\lambda_1,\\lambda_2,\\lambda_3] \\\\\n",
        "\\texttt{specA[1]} &=  U=\\begin{pmatrix}\\uparrow & \\uparrow & \\uparrow \\\\\n",
        "u_1 & u_2 & u_3 \\\\\n",
        "\\downarrow & \\downarrow & \\downarrow\n",
        "\\end{pmatrix}\n",
        "\\end{align*}"
      ]
    },
    {
      "cell_type": "code",
      "execution_count": 3,
      "metadata": {
        "id": "q8H2hkxL_3qN",
        "outputId": "95491fa4-9052-4b3c-e849-efaae7653218",
        "colab": {
          "base_uri": "https://localhost:8080/"
        }
      },
      "outputs": [
        {
          "output_type": "stream",
          "name": "stdout",
          "text": [
            "[ 0.          0.13709533 15.196238  ]\n",
            "[[ 0.         -0.7377465  -0.67507785]\n",
            " [ 0.6         0.54006228 -0.5901972 ]\n",
            " [ 0.8        -0.40504671  0.4426479 ]]\n"
          ]
        }
      ],
      "source": [
        "D = specA[0]\n",
        "U = specA[1]\n",
        "\n",
        "print(D)\n",
        "print(U)"
      ]
    },
    {
      "cell_type": "code",
      "execution_count": 4,
      "metadata": {
        "id": "XE7qG2DhLt1V",
        "outputId": "9829fc74-2e27-4927-e99e-6b7ba6da1c9d",
        "colab": {
          "base_uri": "https://localhost:8080/"
        }
      },
      "outputs": [
        {
          "output_type": "stream",
          "name": "stdout",
          "text": [
            "[[ 0.          0.          0.        ]\n",
            " [ 0.          0.13709533  0.        ]\n",
            " [ 0.          0.         15.196238  ]]\n"
          ]
        }
      ],
      "source": [
        "# สร้าง diagonal matrix ทีมี eigenvalues ในแนวแทยง\n",
        "\n",
        "diagD = np.diag(D)\n",
        "\n",
        "print(diagD)"
      ]
    },
    {
      "cell_type": "markdown",
      "metadata": {
        "id": "spgyd7MO-jnf"
      },
      "source": [
        "#### ลองเช็คว่าการแยกส่วนประกอบของ A ถูกต้องหรือไม่ดัวยสูตร\n",
        "\n",
        "$$A =\\begin{pmatrix}\\uparrow & \\uparrow & \\uparrow \\\\\n",
        "u_1 & u_2 & u_3 \\\\\n",
        "\\downarrow & \\downarrow & \\downarrow\n",
        "\\end{pmatrix}\\begin{pmatrix}\\lambda_1 & 0 & 0 \\\\\n",
        "0 & \\lambda_2 & 0 \\\\\n",
        "0 & 0 & \\lambda_3\n",
        "\\end{pmatrix}\\begin{pmatrix}\\leftarrow & u_1 & \\rightarrow \\\\\n",
        "\\leftarrow & u_2 & \\rightarrow \\\\\n",
        "\\leftarrow & u_3 & \\rightarrow\n",
        "\\end{pmatrix}$$"
      ]
    },
    {
      "cell_type": "code",
      "execution_count": 5,
      "metadata": {
        "id": "9bZFhpYC4BtE",
        "outputId": "1eecd922-d55c-4e69-ac16-6228944d2f0a",
        "colab": {
          "base_uri": "https://localhost:8080/"
        }
      },
      "outputs": [
        {
          "output_type": "stream",
          "name": "stdout",
          "text": [
            "[[ 7.          6.         -4.5       ]\n",
            " [ 6.          5.33333333 -4.        ]\n",
            " [-4.5        -4.          3.        ]]  <- A\n",
            "[[ 7.          6.         -4.5       ]\n",
            " [ 6.          5.33333333 -4.        ]\n",
            " [-4.5        -4.          3.        ]]  <- U^TDU\n"
          ]
        }
      ],
      "source": [
        "print(A, ' <- A')\n",
        "\n",
        "print(U @ diagD @ U.T,' <- U^TDU')"
      ]
    },
    {
      "cell_type": "markdown",
      "metadata": {
        "id": "XLJKQcPrAd_x"
      },
      "source": [
        "#### ทำ PCA จากข้อมูลที่มีอยู่ 3 มิติให้เหลือ 2 มิติ\n",
        "1. เริ่มด้วยการหา Eigenvector ที่มีค่า Eigenvalue สูงสุดสองอันดับแรก"
      ]
    },
    {
      "cell_type": "code",
      "execution_count": 6,
      "metadata": {
        "id": "7TWReO68LYTO",
        "outputId": "69807296-f5b7-4f50-cb9a-39702971e3b5",
        "colab": {
          "base_uri": "https://localhost:8080/"
        }
      },
      "outputs": [
        {
          "output_type": "stream",
          "name": "stdout",
          "text": [
            "[[-0.7377465  -0.67507785]\n",
            " [ 0.54006228 -0.5901972 ]\n",
            " [-0.40504671  0.4426479 ]]  <- U_2\n"
          ]
        }
      ],
      "source": [
        "# D = [0, 0.137, 15.2]\n",
        "\n",
        "l_2 = D[-1] #eigenvalue ที่มีค่าสูงที่สุด\n",
        "l_3 = D[-2] #eigenvalue ที่มีค่ารองลงมา\n",
        "\n",
        "U_23 = U[:,-2:]\n",
        "\n",
        "\n",
        "print(U_23, ' <- U_2')"
      ]
    },
    {
      "cell_type": "markdown",
      "metadata": {
        "id": "VxteAckDF6_x"
      },
      "source": [
        "#### ให้ตัวเลขในแต่ละแถวของ $A$ ทำ projection บนเวกเตอร์ $u_1$ และ $u_2$ ทำได้โดย\n",
        "$$MU_{23}=\\begin{pmatrix} \\longleftarrow & x & \\longrightarrow \\\\ \\longleftarrow & y & \\longrightarrow \\\\ \\longleftarrow & z & \\longrightarrow \\end{pmatrix}\\begin{pmatrix}\\uparrow & \\uparrow \\\\\n",
        "u_2 & u_3  \\\\\n",
        "\\downarrow & \\downarrow\n",
        "\\end{pmatrix}=\\begin{pmatrix}x\\cdot u_2 &x\\cdot u_3 \\\\\n",
        "y\\cdot u_2 &y\\cdot u_3 \\\\\n",
        "z\\cdot u_2 &z\\cdot u_3\\end{pmatrix}$$"
      ]
    },
    {
      "cell_type": "code",
      "execution_count": 7,
      "metadata": {
        "id": "NZa2EvC3MQ8w",
        "outputId": "bb1dd162-2413-4220-9f49-6cce13984bc0",
        "colab": {
          "base_uri": "https://localhost:8080/"
        }
      },
      "outputs": [
        {
          "output_type": "stream",
          "name": "stdout",
          "text": [
            "[[-0.38738325  1.90465535]\n",
            " [ 0.35036324  2.5797332 ]\n",
            " [ 0.03702001 -4.48438855]]\n"
          ]
        }
      ],
      "source": [
        "M2 = M @ U_23  # M คือ matrix ที่มีข้อมูลอยู่\n",
        "\n",
        "# not U_23 @ M\n",
        "\n",
        "print(M2)"
      ]
    },
    {
      "cell_type": "code",
      "execution_count": 8,
      "metadata": {
        "id": "2oLZBdcdl6xo",
        "outputId": "6f86814f-3324-4d5c-b760-feaadece82f2",
        "colab": {
          "base_uri": "https://localhost:8080/",
          "height": 445
        }
      },
      "outputs": [
        {
          "output_type": "display_data",
          "data": {
            "text/plain": [
              "<Figure size 1200x500 with 2 Axes>"
            ],
            "image/png": "[encoded data removed]"
          },
          "metadata": {}
        }
      ],
      "source": [
        "import matplotlib.pyplot as plt\n",
        "\n",
        "# Plot initialization\n",
        "fig = plt.figure(figsize=(12,5))\n",
        "\n",
        "ax1 = fig.add_subplot(121, projection='3d')\n",
        "ax1.scatter(M[:,0], M[:,1], M[:,2], s=60);\n",
        "\n",
        "ax2 = fig.add_subplot(122)\n",
        "ax2.scatter(M2[:,0], M2[:,1], s=60);"
      ]
    },
    {
      "cell_type": "markdown",
      "metadata": {
        "id": "QR-GOrNEqW7f"
      },
      "source": [
        "#### การทำ PCA ด้วย scikit-learn โดยใช้ sklearn.decomposition.PCA ([Documentation](https://scikit-learn.org/stable/modules/generated/sklearn.decomposition.PCA.html))"
      ]
    },
    {
      "cell_type": "code",
      "execution_count": 9,
      "metadata": {
        "id": "A9S0nbWIK9Qg",
        "outputId": "582e80e4-c745-4f8e-9027-aead17b4ecd6",
        "colab": {
          "base_uri": "https://localhost:8080/"
        }
      },
      "outputs": [
        {
          "output_type": "stream",
          "name": "stdout",
          "text": [
            "[[-1.90465535  0.38738325]\n",
            " [-2.5797332  -0.35036324]\n",
            " [ 4.48438855 -0.03702001]]\n"
          ]
        }
      ],
      "source": [
        "from sklearn.decomposition import PCA\n",
        "\n",
        "pca = PCA(n_components=2)\n",
        "B2 = pca.fit_transform(M)\n",
        "print(B2)"
      ]
    },
    {
      "cell_type": "markdown",
      "metadata": {
        "id": "9HMC1qZcsSPw"
      },
      "source": [
        "#### ลองดูว่าทิศทางของ principal component มีอะไรบ้าง"
      ]
    },
    {
      "cell_type": "code",
      "execution_count": 10,
      "metadata": {
        "id": "NIelTMhisA3s",
        "outputId": "ad9a4842-b8bd-4e8b-af89-873620befda0",
        "colab": {
          "base_uri": "https://localhost:8080/"
        }
      },
      "outputs": [
        {
          "output_type": "stream",
          "name": "stdout",
          "text": [
            "[[-0.7377465  -0.67507785]\n",
            " [ 0.54006228 -0.5901972 ]\n",
            " [-0.40504671  0.4426479 ]]\n"
          ]
        },
        {
          "output_type": "execute_result",
          "data": {
            "text/plain": [
              "array([[ 0.67507785,  0.5901972 , -0.4426479 ],\n",
              "       [ 0.7377465 , -0.54006228,  0.40504671]])"
            ]
          },
          "metadata": {},
          "execution_count": 10
        }
      ],
      "source": [
        "print(U_23)\n",
        "\n",
        "pca.components_"
      ]
    },
    {
      "cell_type": "markdown",
      "metadata": {
        "id": "LLks01-ts1yJ"
      },
      "source": [
        "#### สามารถดูได้ว่าในแต่ละทิศได้อธิบายความแปรปรวนของข้อมูลไปเท่าไหร่"
      ]
    },
    {
      "cell_type": "code",
      "execution_count": 11,
      "metadata": {
        "id": "OfeTqzPSsGTV",
        "outputId": "eb8ce35f-777f-4fb8-b0c3-6a5e820d3f82",
        "colab": {
          "base_uri": "https://localhost:8080/"
        }
      },
      "outputs": [
        {
          "output_type": "execute_result",
          "data": {
            "text/plain": [
              "array([15.196238  ,  0.13709533])"
            ]
          },
          "metadata": {},
          "execution_count": 11
        }
      ],
      "source": [
        "pca.explained_variance_"
      ]
    },
    {
      "cell_type": "markdown",
      "metadata": {
        "id": "WOnPRlb2tL9n"
      },
      "source": [
        "#### หรือสามารถดูเป็นสัดส่วนได้"
      ]
    },
    {
      "cell_type": "code",
      "execution_count": 12,
      "metadata": {
        "id": "4_ScwWyNss7q",
        "outputId": "16bbba24-b18b-4151-b764-ba4c26ae377b",
        "colab": {
          "base_uri": "https://localhost:8080/"
        }
      },
      "outputs": [
        {
          "output_type": "execute_result",
          "data": {
            "text/plain": [
              "array([0.991059, 0.008941])"
            ]
          },
          "metadata": {},
          "execution_count": 12
        }
      ],
      "source": [
        "pca.explained_variance_ratio_"
      ]
    }
  ],
  "metadata": {
    "colab": {
      "provenance": [],
      "include_colab_link": true
    },
    "kernelspec": {
      "display_name": "Python 3 (ipykernel)",
      "language": "python",
      "name": "python3"
    },
    "language_info": {
      "codemirror_mode": {
        "name": "ipython",
        "version": 3
      },
      "file_extension": ".py",
      "mimetype": "text/x-python",
      "name": "python",
      "nbconvert_exporter": "python",
      "pygments_lexer": "ipython3",
      "version": "3.10.12"
    }
  },
  "nbformat": 4,
  "nbformat_minor": 0
}